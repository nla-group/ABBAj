{
 "cells": [
  {
   "cell_type": "markdown",
   "id": "c9d9c0b5",
   "metadata": {},
   "source": [
    "## Run ABBAj"
   ]
  },
  {
   "cell_type": "code",
   "execution_count": 1,
   "id": "7759539c",
   "metadata": {},
   "outputs": [
    {
     "name": "stderr",
     "output_type": "stream",
     "text": [
      "WARNING: using ABBAj.ABBAj in module Main conflicts with an existing identifier.\n"
     ]
    },
    {
     "ename": "LoadError",
     "evalue": "importing ABBAj into Main conflicts with an existing identifier",
     "output_type": "error",
     "traceback": [
      "importing ABBAj into Main conflicts with an existing identifier",
      "",
      "Stacktrace:",
      " [1] eval",
      "   @ ./boot.jl:360 [inlined]",
      " [2] include_string(mapexpr::typeof(REPL.softscope), mod::Module, code::String, filename::String)",
      "   @ Base ./loading.jl:1116"
     ]
    }
   ],
   "source": [
    "using CSV\n",
    "using DataFrames\n",
    "using StatsBase\n",
    "using DelimitedFiles\n",
    "include(\"ABBAj.jl/src/ABBAj.jl\")\n",
    "using ABBAj"
   ]
  },
  {
   "cell_type": "code",
   "execution_count": 2,
   "id": "6a6ebff9",
   "metadata": {},
   "outputs": [],
   "source": [
    "ts_test = DataFrame(CSV.File(\"ts_test.csv\"));\n",
    "ts_test = Matrix(ts_test);\n",
    "length = size(ts_test)[1];"
   ]
  },
  {
   "cell_type": "code",
   "execution_count": 3,
   "id": "4664160a",
   "metadata": {},
   "outputs": [],
   "source": [
    "runtime = zeros((100, 2)); # symbols: 10, 100, 1000\n",
    "accuracy = zeros((100, 2)); # symbols: 10, 100, 1000\n",
    "k_symbols = [100, 1000];\n",
    "TOL = 0.5;"
   ]
  },
  {
   "cell_type": "code",
   "execution_count": 4,
   "id": "79d9c403",
   "metadata": {},
   "outputs": [],
   "source": [
    "# initialize, useless\n",
    "symbols1, model1 = fit_transform(ts_test[1, :], k_symbols[1], 0.5); # use 4 symbols with compressed tolerance of 0.1\n",
    "r_time_series1 = inverse_transform(symbols1, model1, ts_test[1, :][1]); # inverse transform time series"
   ]
  },
  {
   "cell_type": "code",
   "execution_count": 5,
   "id": "823b7151",
   "metadata": {},
   "outputs": [],
   "source": [
    "for i in range(1, stop=length,step=1)\n",
    "    ts = ts_test[i, :]\n",
    "    \n",
    "    st = time();\n",
    "    symbols1, model1 = fit_transform(ts, k_symbols[1], 0.5); # use 4 symbols with compressed tolerance of 0.1\n",
    "    r_time_series1 = inverse_transform(symbols1, model1, ts[1]); # inverse transform time series\n",
    "    et = time();\n",
    "    runtime[i, 1] = et - st\n",
    "    accuracy[i, 1] = StatsBase.rmsd(r_time_series1, ts)\n",
    "    \n",
    "    st = time();\n",
    "    symbols2, model2 = fit_transform(ts, k_symbols[2], 0.5); # use 4 symbols with compressed tolerance of 0.1\n",
    "    r_time_series2 = inverse_transform(symbols2, model2, ts[1]); # inverse transform time series\n",
    "    et = time();\n",
    "    runtime[i, 2] = et - st\n",
    "    accuracy[i, 2] = StatsBase.rmsd(r_time_series2, ts)\n",
    "\n",
    "end"
   ]
  },
  {
   "cell_type": "code",
   "execution_count": 6,
   "id": "32f1c2b6",
   "metadata": {},
   "outputs": [],
   "source": [
    "writedlm(\"jruntime.csv\",  runtime, ',')\n",
    "writedlm(\"jaccuracy.csv\",  accuracy, ',')"
   ]
  },
  {
   "cell_type": "code",
   "execution_count": null,
   "id": "37c0e9d5",
   "metadata": {},
   "outputs": [],
   "source": []
  },
  {
   "cell_type": "code",
   "execution_count": null,
   "id": "f5706ec6",
   "metadata": {},
   "outputs": [],
   "source": []
  }
 ],
 "metadata": {
  "kernelspec": {
   "display_name": "Julia 1.6.3",
   "language": "julia",
   "name": "julia-1.6"
  },
  "language_info": {
   "file_extension": ".jl",
   "mimetype": "application/julia",
   "name": "julia",
   "version": "1.6.3"
  }
 },
 "nbformat": 4,
 "nbformat_minor": 5
}
